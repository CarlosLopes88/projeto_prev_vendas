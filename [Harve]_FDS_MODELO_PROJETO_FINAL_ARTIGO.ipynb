{
  "nbformat": 4,
  "nbformat_minor": 0,
  "metadata": {
    "colab": {
      "name": "[Harve] FDS - MODELO PROJETO FINAL/ARTIGO",
      "provenance": [],
      "collapsed_sections": [],
      "include_colab_link": true
    },
    "kernelspec": {
      "name": "python3",
      "display_name": "Python 3"
    }
  },
  "cells": [
    {
      "cell_type": "markdown",
      "metadata": {
        "id": "view-in-github",
        "colab_type": "text"
      },
      "source": [
        "<a href=\"https://colab.research.google.com/github/CarlosLopes88/projeto_prev_vendas/blob/main/%5BHarve%5D_FDS_MODELO_PROJETO_FINAL_ARTIGO.ipynb\" target=\"_parent\"><img src=\"https://colab.research.google.com/assets/colab-badge.svg\" alt=\"Open In Colab\"/></a>"
      ]
    },
    {
      "cell_type": "markdown",
      "metadata": {
        "id": "SND1MuwjwaSF"
      },
      "source": [
        "#**Artigo de conclusão da Formação em Cientista de Dados**"
      ]
    },
    {
      "cell_type": "markdown",
      "metadata": {
        "id": "xUKhND7dxVxR"
      },
      "source": [
        "NOME DO ALUNO\n",
        "\n",
        "Carlos Eduardo Lopes\n"
      ]
    },
    {
      "cell_type": "markdown",
      "metadata": {
        "id": "8GBfGaZXOG8o"
      },
      "source": [
        "TURMA\n",
        "\n",
        "Formação em Cientista de Dados-T07-Mai\n"
      ]
    },
    {
      "cell_type": "markdown",
      "metadata": {
        "id": "gcqG_U9Fw9sM"
      },
      "source": [
        "# **Resumo**\n",
        "\n"
      ]
    },
    {
      "cell_type": "markdown",
      "metadata": {
        "id": "0F68MZqfxdyc"
      },
      "source": [
        "Em poucas linhas explique o projeto, como motivação e processo para o mesmo.\n"
      ]
    },
    {
      "cell_type": "markdown",
      "metadata": {
        "id": "xHXSTbqxw-ZS"
      },
      "source": [
        "# **Objetivo**"
      ]
    },
    {
      "cell_type": "markdown",
      "metadata": {
        "id": "11xoC1_HOYWC"
      },
      "source": [
        "Desenvolver modelos preditivos analisando várias hipóteses de modelos escolhendo aquele com melhor desempenho para utilização dentro do BI."
      ]
    },
    {
      "cell_type": "markdown",
      "metadata": {
        "id": "u0oDPcrHYJ7g"
      },
      "source": [
        "# **Execução do projeto**\n",
        "\n",
        "\n",
        "\n",
        "\n",
        "\n",
        "\n",
        "\n",
        "\n"
      ]
    },
    {
      "cell_type": "markdown",
      "metadata": {
        "id": "NBdfiXTIOiid"
      },
      "source": [
        "Forneça detalhes das etapas e ferramentas para o projeto. Quais bases de dados foram usadas? Quais dados elas continham? Qual foram os critérios de seleção do Modelo, se houver um modelo. \n"
      ]
    },
    {
      "cell_type": "markdown",
      "metadata": {
        "id": "zvcx-2Vz2pYq"
      },
      "source": [
        "* Processo ETL"
      ]
    },
    {
      "cell_type": "code",
      "metadata": {
        "id": "2F3P0-o2ZO1e"
      },
      "source": [
        "###     1º Passo 'extract'     ###\n",
        "\n",
        "#Carregar bibliotecas: vendas\n",
        "\n",
        "# origem: https://www.kaggle.com/tevecsystems/retail-sales-forecasting\n",
        "\n",
        "import pandas as pd\n",
        "import datetime\n",
        "import time\n",
        "\n",
        "df = pd.read_csv('https://raw.githubusercontent.com/CarlosLopes88/projeto_prev_vendas/main/mock_kaggle.csv', delimiter=',',decimal='.')"
      ],
      "execution_count": null,
      "outputs": []
    },
    {
      "cell_type": "code",
      "metadata": {
        "id": "TAIURChO2lMD"
      },
      "source": [
        "###     2º Passo 'transform'     ###\n",
        "\n",
        "# Convertendo a coluna data para o formato 'date'\n",
        "\n",
        "df['data'] = pd.to_datetime(df['data'])\n",
        "\n",
        "# criando a coluna dia da semana, semana e ano\n",
        "\n",
        "df['diasemana'] = df['data'].dt.strftime('%w')\n",
        "\n",
        "df['semana'] = df['data'].dt.strftime('%W')\n",
        "\n",
        "df['mes'] = df['data'].dt.strftime('%m')\n",
        "\n",
        "df['ano'] = df['data'].dt.strftime('%Y')\n",
        "\n",
        "df = df.drop(columns=['data'],axis=1)\n",
        "\n",
        "df = df.groupby(['diasemana', 'semana','mes', 'ano'], as_index=False).agg({'venda':'sum', 'estoque':'sum','preco':'mean'})\n",
        "\n",
        "df = df.loc[df['ano']=='2016']\n",
        "\n",
        "df.head()"
      ],
      "execution_count": null,
      "outputs": []
    },
    {
      "cell_type": "markdown",
      "metadata": {
        "id": "_7N7vnyNTJSH"
      },
      "source": [
        "* Analise descritiva"
      ]
    },
    {
      "cell_type": "code",
      "metadata": {
        "id": "bjpAhQKmTOJN"
      },
      "source": [
        "df.describe()"
      ],
      "execution_count": null,
      "outputs": []
    },
    {
      "cell_type": "markdown",
      "metadata": {
        "id": "94y7Hw67ZwoW"
      },
      "source": [
        "* Gráfico para analise de preço:"
      ]
    },
    {
      "cell_type": "code",
      "metadata": {
        "id": "9zOKn29ECZ1c"
      },
      "source": [
        "# Importação da biblioteca de visualização\n",
        "import seaborn as sns\n",
        "\n",
        "eixo = sns.scatterplot(x=df.semana, y=df.preco)\n",
        "eixo.set_xlabel('semana')\n",
        "eixo.set_ylabel('preco')"
      ],
      "execution_count": null,
      "outputs": []
    },
    {
      "cell_type": "markdown",
      "metadata": {
        "id": "nHUncrdFZ60Y"
      },
      "source": [
        "* Gráfico para analise de vendas:"
      ]
    },
    {
      "cell_type": "code",
      "metadata": {
        "id": "NpjOrqyvaBAB"
      },
      "source": [
        "# Importação da biblioteca de visualização\n",
        "import seaborn as sns\n",
        "\n",
        "eixo = sns.scatterplot(x=df.semana, y=df.venda)\n",
        "eixo.set_xlabel('semana')\n",
        "eixo.set_ylabel('venda')"
      ],
      "execution_count": null,
      "outputs": []
    },
    {
      "cell_type": "markdown",
      "metadata": {
        "id": "fx9sQxoxcqVg"
      },
      "source": [
        "* Correlação"
      ]
    },
    {
      "cell_type": "code",
      "metadata": {
        "id": "qMBeo8nfcs1q"
      },
      "source": [
        "df.corr()"
      ],
      "execution_count": null,
      "outputs": []
    },
    {
      "cell_type": "markdown",
      "metadata": {
        "id": "OpCirUvx2w0x"
      },
      "source": [
        "* Modelo preditivos:\n",
        "\n",
        "Aqui utilizaremos 3 modelos e avaliaremos qual a melhor opçãp dentre eles."
      ]
    },
    {
      "cell_type": "markdown",
      "metadata": {
        "id": "c3q5_6qS2-qC"
      },
      "source": [
        "* Separando o Conjunto de Dados em Teste e Treino:"
      ]
    },
    {
      "cell_type": "code",
      "metadata": {
        "id": "li1US34P2lFl"
      },
      "source": [
        "from sklearn.model_selection import train_test_split\n",
        "\n",
        "X=df.drop(['venda'],axis=1)\n",
        "y=df['venda']\n",
        "\n",
        "X_train, X_test, y_train, y_test = train_test_split(X, y, test_size=0.25, random_state=12)\n",
        "\n",
        "print(\"Tamanho do Conjunto de Treino: \",X_train.shape,\"| Tamanho do Conjunto de Teste\",X_test.shape)\n",
        "print(\"Amostra da Tabela de Treino\")"
      ],
      "execution_count": null,
      "outputs": []
    },
    {
      "cell_type": "markdown",
      "metadata": {
        "id": "LiiY4XL93G07"
      },
      "source": [
        "* Implementando o modelo de regressão linear"
      ]
    },
    {
      "cell_type": "code",
      "metadata": {
        "id": "hQrXNHzB2k-_"
      },
      "source": [
        "from sklearn.linear_model import LinearRegression\n",
        "from sklearn.metrics import mean_squared_error, r2_score\n",
        "\n",
        "reg_linear = LinearRegression().fit(X_train, y_train)\n",
        "\n",
        "reg_linear.score(X_train,y_train)"
      ],
      "execution_count": null,
      "outputs": []
    },
    {
      "cell_type": "code",
      "metadata": {
        "id": "ryaFwmB33Kia"
      },
      "source": [
        "y_pred_reg_lin = reg_linear.predict(X_test)\n",
        "\n",
        "print('MSE = ',mean_squared_error(y_test, y_pred_reg_lin), 'R2 = ',r2_score(y_test,y_pred_reg_lin))"
      ],
      "execution_count": null,
      "outputs": []
    },
    {
      "cell_type": "markdown",
      "metadata": {
        "id": "-TxxNUbW3YKu"
      },
      "source": [
        "* Implementando o modelo de regressão não linear"
      ]
    },
    {
      "cell_type": "code",
      "metadata": {
        "id": "aIXbmFVE3Kfy"
      },
      "source": [
        "from sklearn.preprocessing import PolynomialFeatures\n",
        "from sklearn.pipeline import make_pipeline\n",
        "from sklearn.metrics import mean_squared_error, r2_score\n",
        "\n",
        "degree=2\n",
        "\n",
        "reg_poli=make_pipeline(PolynomialFeatures(degree),LinearRegression())\n",
        "\n",
        "reg_poli.fit(X_train,y_train)\n",
        "\n",
        "reg_poli.score(X_train,y_train)"
      ],
      "execution_count": null,
      "outputs": []
    },
    {
      "cell_type": "code",
      "metadata": {
        "id": "FTHXEJDu3Kcg"
      },
      "source": [
        "y_pred_reg_poli = reg_poli.predict(X_test)\n",
        "\n",
        "print('MSE = ',mean_squared_error(y_test, y_pred_reg_poli), 'R2 = ',r2_score(y_test,y_pred_reg_poli))"
      ],
      "execution_count": null,
      "outputs": []
    },
    {
      "cell_type": "markdown",
      "metadata": {
        "id": "KYrJfrcl3o_7"
      },
      "source": [
        "* Implementando o modelo de arvore de decisão"
      ]
    },
    {
      "cell_type": "code",
      "metadata": {
        "id": "wmUxsa1N3KZe"
      },
      "source": [
        "from sklearn.tree import DecisionTreeRegressor\n",
        "from sklearn import tree\n",
        "from sklearn.metrics import mean_squared_error, r2_score\n",
        "\n",
        "av_dec_reg = DecisionTreeRegressor(random_state=1212, max_depth=7)\n",
        "\n",
        "av_dec_reg.fit(X_train, y_train)\n",
        "\n",
        "av_dec_reg.score(X_train,y_train)"
      ],
      "execution_count": null,
      "outputs": []
    },
    {
      "cell_type": "code",
      "metadata": {
        "id": "k6iiOGIn3KW0"
      },
      "source": [
        "y_pred_av_dec = av_dec_reg.predict(X_test)\n",
        "\n",
        "print('MSE = ',mean_squared_error(y_test, y_pred_av_dec), 'R2 = ',r2_score(y_test,y_pred_av_dec))"
      ],
      "execution_count": null,
      "outputs": []
    },
    {
      "cell_type": "code",
      "metadata": {
        "id": "M5iyOMPRKYof"
      },
      "source": [
        "from sklearn.ensemble import RandomForestRegressor\n",
        "\n",
        "ra_fr_re = RandomForestRegressor(random_state=1212, max_depth=11)\n",
        "\n",
        "ra_fr_re.fit(X_train, y_train)\n",
        "\n",
        "ra_fr_re.score(X_train, y_train)"
      ],
      "execution_count": null,
      "outputs": []
    },
    {
      "cell_type": "code",
      "metadata": {
        "id": "cTRirNChLV7X"
      },
      "source": [
        "y_pred_ra_fr_re = ra_fr_re.predict(X_test)\n",
        "\n",
        "print('MSE = ',mean_squared_error(y_test, y_pred_ra_fr_re), 'R2 = ',r2_score(y_test, y_pred_ra_fr_re))"
      ],
      "execution_count": null,
      "outputs": []
    },
    {
      "cell_type": "markdown",
      "metadata": {
        "id": "H89Rc0et3z97"
      },
      "source": [
        "* Verificação da importancia das variavéis"
      ]
    },
    {
      "cell_type": "code",
      "metadata": {
        "id": "TE8sACO92k4K"
      },
      "source": [
        "from matplotlib import pyplot\n",
        "\n",
        "importance = ra_fr_re.feature_importances_\n",
        "\n",
        "for i,v in enumerate(importance):\n",
        "\tprint('Feature: %0d, Score: %.5f' % (i,v))\n",
        "\n",
        "pyplot.bar([x for x in range(len(importance))], importance)\n",
        "pyplot.show()"
      ],
      "execution_count": null,
      "outputs": []
    },
    {
      "cell_type": "markdown",
      "metadata": {
        "id": "dvacdk1f343w"
      },
      "source": [
        "* Verificação do gráfico da arvore de decisão"
      ]
    },
    {
      "cell_type": "markdown",
      "metadata": {
        "id": "z3V7AgXh4CEF"
      },
      "source": [
        "* Carregando os dados para a predição:"
      ]
    },
    {
      "cell_type": "code",
      "metadata": {
        "id": "95yNh1oWCXgn"
      },
      "source": [
        "df_pred = pd.read_csv('https://raw.githubusercontent.com/CarlosLopes88/projeto_prev_vendas/main/mock_kaggle_pred.csv', delimiter=',',decimal='.')\n",
        "\n",
        "# Convertendo a coluna data para o formato 'date'\n",
        "\n",
        "df_pred['data'] = pd.to_datetime(df_pred['data'])\n",
        "\n",
        "# criando a coluna dia da semana, semana e ano\n",
        "\n",
        "df_pred['diasemana'] = df_pred['data'].dt.strftime('%w')\n",
        "\n",
        "df_pred['semana'] = df_pred['data'].dt.strftime('%W')\n",
        "\n",
        "df_pred['mes'] = df_pred['data'].dt.strftime('%m')\n",
        "\n",
        "df_pred['ano'] = df_pred['data'].dt.strftime('%Y')\n",
        "\n",
        "df_pred = df_pred.drop(columns=['data'],axis=1)\n",
        "\n",
        "df_pred = df_pred.groupby(['diasemana', 'semana', 'mes', 'ano'], as_index=False).agg({'venda':'sum', 'estoque':'sum','preco':'mean'})\n",
        "\n",
        "df_pred.to_dict()"
      ],
      "execution_count": null,
      "outputs": []
    },
    {
      "cell_type": "code",
      "metadata": {
        "id": "3Mj8Y3RU4GlD"
      },
      "source": [
        "teste_Carlos = df_pred\n",
        "pred_Carlos=pd.DataFrame(teste_Carlos,columns=['diasemana', 'semana','mes', 'ano','estoque', 'preco'])\n",
        "pred_Carlos"
      ],
      "execution_count": null,
      "outputs": []
    },
    {
      "cell_type": "code",
      "metadata": {
        "id": "bOT3bTS64GYE"
      },
      "source": [
        "print('O valor inserido para o próx período tem o valor predito de:',ra_fr_re.predict(pred_Carlos))"
      ],
      "execution_count": null,
      "outputs": []
    },
    {
      "cell_type": "markdown",
      "metadata": {
        "id": "NSZF4b9d4PaV"
      },
      "source": [
        "* Finalizando o processo ETL:"
      ]
    },
    {
      "cell_type": "code",
      "metadata": {
        "id": "4gBu79y84TF9"
      },
      "source": [
        "# Unindo os Data Frames df + df_pred\n",
        "\n",
        "df_pred['venda'] = av_dec_reg.predict(pred_Carlos)\n",
        "\n",
        "df_dados_vendas = pd.concat([df, df_pred])\n",
        "\n",
        "df_dados_vendas.to_csv('dados_vendas.csv')"
      ],
      "execution_count": null,
      "outputs": []
    },
    {
      "cell_type": "markdown",
      "metadata": {
        "id": "HHHQiLzVlLx6"
      },
      "source": [
        "# **Conclusões**\n",
        "\n"
      ]
    },
    {
      "cell_type": "markdown",
      "metadata": {
        "id": "oHK8X_Qfcq1V"
      },
      "source": [
        "Com os dados obtidos quais conclusões foram encontradas e quais passos podem ser necessários para um futuro desenvolvimento do projeto\n"
      ]
    },
    {
      "cell_type": "code",
      "metadata": {
        "id": "RqHilTm2ab59"
      },
      "source": [
        ""
      ],
      "execution_count": null,
      "outputs": []
    },
    {
      "cell_type": "markdown",
      "metadata": {
        "id": "TFagwvY6O55G"
      },
      "source": [
        "# **Referências e Notebooks**"
      ]
    },
    {
      "cell_type": "markdown",
      "metadata": {
        "id": "Xlhkew8WO72a"
      },
      "source": [
        "Informe os links de notebooks, blogs e livros que foram utilizados. Exemplos abaixo.\n"
      ]
    },
    {
      "cell_type": "markdown",
      "metadata": {
        "id": "sSANghakO-PU"
      },
      "source": [
        "Notebook do Projeto, disponível em: www.site.com.br\n"
      ]
    },
    {
      "cell_type": "markdown",
      "metadata": {
        "id": "6dT68k37PAfI"
      },
      "source": [
        "Base de dados utilizada disponível www.site.com.brhttps://www.kaggle.com/tevecsystems/retail-sales-forecasting\n"
      ]
    }
  ]
}